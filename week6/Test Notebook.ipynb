{
 "cells": [
  {
   "cell_type": "code",
   "execution_count": 2,
   "metadata": {
    "collapsed": false,
    "deletable": true,
    "editable": true
   },
   "outputs": [],
   "source": [
    "import matplotlib\n",
    "import matplotlib.pyplot as plt\n",
    "import numpy as np\n",
    "import pandas as pd\n",
    "import os"
   ]
  },
  {
   "cell_type": "code",
   "execution_count": null,
   "metadata": {
    "collapsed": true,
    "deletable": true,
    "editable": true
   },
   "outputs": [],
   "source": [
    "%matplotlib inline\n",
    "plt.rcParams['figure.figsize'] = (20, 10)"
   ]
  },
  {
   "cell_type": "code",
   "execution_count": null,
   "metadata": {
    "collapsed": true,
    "deletable": true,
    "editable": true
   },
   "outputs": [],
   "source": [
    "saved_style_state = matplotlib.rcParams.copy()"
   ]
  },
  {
   "cell_type": "code",
   "execution_count": null,
   "metadata": {
    "collapsed": true,
    "deletable": true,
    "editable": true
   },
   "outputs": [],
   "source": []
  },
  {
   "cell_type": "code",
   "execution_count": 13,
   "metadata": {
    "collapsed": false,
    "deletable": true,
    "editable": true
   },
   "outputs": [
    {
     "name": "stdout",
     "output_type": "stream",
     "text": [
      "loading from file\n",
      "done\n"
     ]
    }
   ],
   "source": [
    "if os.path.isfile(\"bp0022-oad-pivot-2016-17-v800.csv\"):\n",
    "    filepath = \"bp0022-oad-pivot-2016-17-v800.csv\"\n",
    "    print \"loading from file\"\n",
    "immigration_data = pd.read_csv(filepath)\n",
    "print \"done\""
   ]
  },
  {
   "cell_type": "code",
   "execution_count": 20,
   "metadata": {
    "collapsed": false,
    "deletable": true,
    "editable": true
   },
   "outputs": [
    {
     "data": {
      "text/html": [
       "<div>\n",
       "<table border=\"1\" class=\"dataframe\">\n",
       "  <thead>\n",
       "    <tr style=\"text-align: right;\">\n",
       "      <th></th>\n",
       "      <th>Month</th>\n",
       "      <th>July</th>\n",
       "      <th>August</th>\n",
       "      <th>September</th>\n",
       "      <th>October</th>\n",
       "      <th>November</th>\n",
       "      <th>December</th>\n",
       "      <th>January</th>\n",
       "      <th>February</th>\n",
       "      <th>Grand Total</th>\n",
       "    </tr>\n",
       "  </thead>\n",
       "  <tbody>\n",
       "    <tr>\n",
       "      <th>0</th>\n",
       "      <td>Long-term resident departure</td>\n",
       "      <td>7396</td>\n",
       "      <td>7543</td>\n",
       "      <td>5325</td>\n",
       "      <td>5115</td>\n",
       "      <td>4885</td>\n",
       "      <td>6226</td>\n",
       "      <td>8848</td>\n",
       "      <td>4781</td>\n",
       "      <td>50119</td>\n",
       "    </tr>\n",
       "    <tr>\n",
       "      <th>1</th>\n",
       "      <td>Long-term resident return</td>\n",
       "      <td>10611</td>\n",
       "      <td>10016</td>\n",
       "      <td>10524</td>\n",
       "      <td>10407</td>\n",
       "      <td>10827</td>\n",
       "      <td>21321</td>\n",
       "      <td>11572</td>\n",
       "      <td>10928</td>\n",
       "      <td>96206</td>\n",
       "    </tr>\n",
       "    <tr>\n",
       "      <th>2</th>\n",
       "      <td>Long-term visitor arrival</td>\n",
       "      <td>64362</td>\n",
       "      <td>30610</td>\n",
       "      <td>31671</td>\n",
       "      <td>33927</td>\n",
       "      <td>28766</td>\n",
       "      <td>24324</td>\n",
       "      <td>55550</td>\n",
       "      <td>80813</td>\n",
       "      <td>350023</td>\n",
       "    </tr>\n",
       "    <tr>\n",
       "      <th>3</th>\n",
       "      <td>Long-term visitor departure</td>\n",
       "      <td>23068</td>\n",
       "      <td>20029</td>\n",
       "      <td>21389</td>\n",
       "      <td>21439</td>\n",
       "      <td>25396</td>\n",
       "      <td>40338</td>\n",
       "      <td>33511</td>\n",
       "      <td>20020</td>\n",
       "      <td>205190</td>\n",
       "    </tr>\n",
       "    <tr>\n",
       "      <th>4</th>\n",
       "      <td>Resident permanent departure</td>\n",
       "      <td>8693</td>\n",
       "      <td>9464</td>\n",
       "      <td>7442</td>\n",
       "      <td>7112</td>\n",
       "      <td>6210</td>\n",
       "      <td>8508</td>\n",
       "      <td>10820</td>\n",
       "      <td>5275</td>\n",
       "      <td>63524</td>\n",
       "    </tr>\n",
       "    <tr>\n",
       "      <th>5</th>\n",
       "      <td>Settler arrival</td>\n",
       "      <td>10434</td>\n",
       "      <td>13303</td>\n",
       "      <td>11580</td>\n",
       "      <td>10995</td>\n",
       "      <td>11034</td>\n",
       "      <td>11531</td>\n",
       "      <td>9611</td>\n",
       "      <td>11833</td>\n",
       "      <td>90321</td>\n",
       "    </tr>\n",
       "    <tr>\n",
       "      <th>6</th>\n",
       "      <td>Short-term resident departure</td>\n",
       "      <td>890643</td>\n",
       "      <td>808434</td>\n",
       "      <td>975137</td>\n",
       "      <td>779397</td>\n",
       "      <td>734480</td>\n",
       "      <td>1127870</td>\n",
       "      <td>771282</td>\n",
       "      <td>589997</td>\n",
       "      <td>6677241</td>\n",
       "    </tr>\n",
       "    <tr>\n",
       "      <th>7</th>\n",
       "      <td>Short-term resident return</td>\n",
       "      <td>1023386</td>\n",
       "      <td>821739</td>\n",
       "      <td>885538</td>\n",
       "      <td>1023834</td>\n",
       "      <td>738837</td>\n",
       "      <td>676799</td>\n",
       "      <td>1256949</td>\n",
       "      <td>737799</td>\n",
       "      <td>7164881</td>\n",
       "    </tr>\n",
       "    <tr>\n",
       "      <th>8</th>\n",
       "      <td>Short-term visitor arrival</td>\n",
       "      <td>716009</td>\n",
       "      <td>632649</td>\n",
       "      <td>647220</td>\n",
       "      <td>694344</td>\n",
       "      <td>720495</td>\n",
       "      <td>971802</td>\n",
       "      <td>725790</td>\n",
       "      <td>780059</td>\n",
       "      <td>5888367</td>\n",
       "    </tr>\n",
       "    <tr>\n",
       "      <th>9</th>\n",
       "      <td>Short-term visitor departure</td>\n",
       "      <td>643798</td>\n",
       "      <td>695513</td>\n",
       "      <td>588650</td>\n",
       "      <td>682335</td>\n",
       "      <td>771876</td>\n",
       "      <td>800918</td>\n",
       "      <td>949600</td>\n",
       "      <td>769797</td>\n",
       "      <td>5902488</td>\n",
       "    </tr>\n",
       "    <tr>\n",
       "      <th>10</th>\n",
       "      <td>Grand Total</td>\n",
       "      <td>3398401</td>\n",
       "      <td>3049299</td>\n",
       "      <td>3184477</td>\n",
       "      <td>3268905</td>\n",
       "      <td>3052806</td>\n",
       "      <td>3689638</td>\n",
       "      <td>3833533</td>\n",
       "      <td>3011302</td>\n",
       "      <td>26488360</td>\n",
       "    </tr>\n",
       "  </tbody>\n",
       "</table>\n",
       "</div>"
      ],
      "text/plain": [
       "                            Month     July   August  September  October  \\\n",
       "0    Long-term resident departure     7396     7543       5325     5115   \n",
       "1       Long-term resident return    10611    10016      10524    10407   \n",
       "2       Long-term visitor arrival    64362    30610      31671    33927   \n",
       "3     Long-term visitor departure    23068    20029      21389    21439   \n",
       "4    Resident permanent departure     8693     9464       7442     7112   \n",
       "5                 Settler arrival    10434    13303      11580    10995   \n",
       "6   Short-term resident departure   890643   808434     975137   779397   \n",
       "7      Short-term resident return  1023386   821739     885538  1023834   \n",
       "8      Short-term visitor arrival   716009   632649     647220   694344   \n",
       "9    Short-term visitor departure   643798   695513     588650   682335   \n",
       "10                    Grand Total  3398401  3049299    3184477  3268905   \n",
       "\n",
       "    November  December  January  February  Grand Total  \n",
       "0       4885      6226     8848      4781        50119  \n",
       "1      10827     21321    11572     10928        96206  \n",
       "2      28766     24324    55550     80813       350023  \n",
       "3      25396     40338    33511     20020       205190  \n",
       "4       6210      8508    10820      5275        63524  \n",
       "5      11034     11531     9611     11833        90321  \n",
       "6     734480   1127870   771282    589997      6677241  \n",
       "7     738837    676799  1256949    737799      7164881  \n",
       "8     720495    971802   725790    780059      5888367  \n",
       "9     771876    800918   949600    769797      5902488  \n",
       "10   3052806   3689638  3833533   3011302     26488360  "
      ]
     },
     "execution_count": 20,
     "metadata": {},
     "output_type": "execute_result"
    }
   ],
   "source": [
    "immigration_data.head(11)"
   ]
  },
  {
   "cell_type": "code",
   "execution_count": 3,
   "metadata": {
    "collapsed": false,
    "deletable": true,
    "editable": true
   },
   "outputs": [
    {
     "ename": "NameError",
     "evalue": "name 'filepath' is not defined",
     "output_type": "error",
     "traceback": [
      "\u001b[0;31m---------------------------------------------------------------------------\u001b[0m",
      "\u001b[0;31mNameError\u001b[0m                                 Traceback (most recent call last)",
      "\u001b[0;32m<ipython-input-3-b52b313645ed>\u001b[0m in \u001b[0;36m<module>\u001b[0;34m()\u001b[0m\n\u001b[1;32m      2\u001b[0m     \u001b[0mfilepath\u001b[0m \u001b[0;34m=\u001b[0m \u001b[0;34m\"RBA-FXRTWI.csv\"\u001b[0m\u001b[0;34m\u001b[0m\u001b[0m\n\u001b[1;32m      3\u001b[0m     \u001b[0;32mprint\u001b[0m \u001b[0;34m\"loading from file\"\u001b[0m\u001b[0;34m\u001b[0m\u001b[0m\n\u001b[0;32m----> 4\u001b[0;31m \u001b[0mrba_data\u001b[0m \u001b[0;34m=\u001b[0m \u001b[0mpd\u001b[0m\u001b[0;34m.\u001b[0m\u001b[0mread_csv\u001b[0m\u001b[0;34m(\u001b[0m\u001b[0mfilepath\u001b[0m\u001b[0;34m)\u001b[0m\u001b[0;34m\u001b[0m\u001b[0m\n\u001b[0m\u001b[1;32m      5\u001b[0m \u001b[0;32mprint\u001b[0m \u001b[0;34m\"done\"\u001b[0m\u001b[0;34m\u001b[0m\u001b[0m\n",
      "\u001b[0;31mNameError\u001b[0m: name 'filepath' is not defined"
     ]
    }
   ],
   "source": [
    "if os.path.isfile(\"RBA-FXRTWI.csv\"):\n",
    "    filepath = \"RBA-FXRTWI.csv\"\n",
    "    print \"loading from file\"\n",
    "rba_data = pd.read_csv(filepath)\n",
    "print \"done\""
   ]
  },
  {
   "cell_type": "code",
   "execution_count": null,
   "metadata": {
    "collapsed": true,
    "deletable": true,
    "editable": true
   },
   "outputs": [],
   "source": []
  }
 ],
 "metadata": {
  "kernelspec": {
   "display_name": "Python 2",
   "language": "python",
   "name": "python2"
  },
  "language_info": {
   "codemirror_mode": {
    "name": "ipython",
    "version": 2
   },
   "file_extension": ".py",
   "mimetype": "text/x-python",
   "name": "python",
   "nbconvert_exporter": "python",
   "pygments_lexer": "ipython2",
   "version": "2.7.12"
  }
 },
 "nbformat": 4,
 "nbformat_minor": 2
}
